{
 "cells": [
  {
   "cell_type": "code",
   "execution_count": 23,
   "metadata": {},
   "outputs": [],
   "source": [
    "import pandas as pd\n",
    "import numpy as np\n",
    "import random\n",
    "import tensorflow as tf\n",
    "from tensorflow.keras.models import Sequential\n",
    "from tensorflow.keras.layers import Dense , Dropout, Conv2D,MaxPooling2D\n",
    "from sklearn.model_selection import train_test_split\n",
    "from sklearn.preprocessing import MinMaxScaler\n",
    "import os\n",
    "from sklearn.ensemble import RandomForestClassifier\n",
    "from sklearn.metrics import accuracy_score,precision_score,recall_score,f1_score"
   ]
  },
  {
   "cell_type": "code",
   "execution_count": 2,
   "metadata": {},
   "outputs": [],
   "source": [
    "os.chdir(\"C:\\\\Users\\\\Utkarsh\\\\Downloads\")\n",
    "data=pd.read_csv('musk_csv.csv')"
   ]
  },
  {
   "cell_type": "code",
   "execution_count": 3,
   "metadata": {},
   "outputs": [],
   "source": [
    "X=data.loc[:,'f1':'f166']\n",
    "Y=data.loc[:,'class']"
   ]
  },
  {
   "cell_type": "code",
   "execution_count": 4,
   "metadata": {},
   "outputs": [],
   "source": [
    "x_train,x_test,y_train,y_test=train_test_split(X,Y,test_size=0.2,random_state=12)"
   ]
  },
  {
   "cell_type": "code",
   "execution_count": 5,
   "metadata": {},
   "outputs": [],
   "source": [
    "#max_depth was selected after looping in range 50\n",
    "model=RandomForestClassifier(max_depth=26,random_state=20) "
   ]
  },
  {
   "cell_type": "code",
   "execution_count": 19,
   "metadata": {},
   "outputs": [
    {
     "name": "stdout",
     "output_type": "stream",
     "text": [
      "{'accuracy': 0.9765151515151516, 'f1_score': 0.9168900804289545, 'precision': 0.9884393063583815, 'recall': 0.855}\n"
     ]
    }
   ],
   "source": [
    "#Random Forest with depth and random state in local optimum of range 1 to 50\n",
    "rf={}\n",
    "model.fit(x_train,y_train)\n",
    "y_pred=model.predict(x_test)\n",
    "rf['accuracy']=accuracy_score(y_test,y_pred)\n",
    "rf['f1_score']=f1_score(y_test,y_pred)\n",
    "rf['precision']=precision_score(y_test,y_pred)\n",
    "rf['recall']=recall_score(y_test,y_pred)\n",
    "print(rf)   "
   ]
  },
  {
   "cell_type": "code",
   "execution_count": 22,
   "metadata": {},
   "outputs": [
    {
     "name": "stderr",
     "output_type": "stream",
     "text": [
      "D:\\anaconda\\envs\\tensorflow\\lib\\site-packages\\sklearn\\preprocessing\\data.py:334: DataConversionWarning: Data with input dtype int64 were all converted to float64 by MinMaxScaler.\n",
      "  return self.partial_fit(X, y)\n"
     ]
    },
    {
     "name": "stdout",
     "output_type": "stream",
     "text": [
      "accuracy with scaled values 0.9712121212121212\n"
     ]
    },
    {
     "name": "stderr",
     "output_type": "stream",
     "text": [
      "D:\\anaconda\\envs\\tensorflow\\lib\\site-packages\\sklearn\\preprocessing\\data.py:334: DataConversionWarning: Data with input dtype int64 were all converted to float64 by MinMaxScaler.\n",
      "  return self.partial_fit(X, y)\n"
     ]
    }
   ],
   "source": [
    "#with MinMaxScaler and Random Forest\n",
    "mmscaler=MinMaxScaler()\n",
    "X_scaled=mmscaler.fit_transform(x_train)\n",
    "model.fit(X_scaled,y_train)\n",
    "X_testscaled=mmscaler.fit_transform(x_test)\n",
    "print('accuracy with scaled values',accuracy_score(y_test,model.predict(X_testscaled)))"
   ]
  },
  {
   "cell_type": "code",
   "execution_count": 21,
   "metadata": {},
   "outputs": [
    {
     "name": "stdout",
     "output_type": "stream",
     "text": [
      "{'accuracy': 0.9787878787878788, 'f1_score': 0.9263157894736842, 'precision': 0.9777777777777777, 'recall': 0.88}\n"
     ]
    }
   ],
   "source": [
    "#Random Forest after dropping correlated features\n",
    "#output ..accuracy and other evaluations on test set\n",
    "corr_matrix = X.corr().abs()\n",
    "rfcorr={}\n",
    "\n",
    "# Select upper triangle of correlation matrix\n",
    "upper = corr_matrix.where(np.triu(np.ones(corr_matrix.shape), k=1).astype(np.bool))\n",
    "to_drop = [column for column in upper.columns if any(upper[column] > 0.97)]\n",
    "X_corr=X.drop(X[to_drop],axis=1)\n",
    "x_corrtrain,x_corrtest,y_corrtrain,y_corrtest=train_test_split(X_corr,Y,test_size=0.2,random_state=12)\n",
    "model.fit(x_corrtrain,y_corrtrain)\n",
    "y_corrpred=model.predict(x_corrtest)\n",
    "rfcorr['accuracy']=accuracy_score(y_corrtest,y_corrpred)\n",
    "rfcorr['f1_score']=f1_score(y_corrtest,y_corrpred)\n",
    "rfcorr['precision']=precision_score(y_corrtest,y_corrpred)\n",
    "rfcorr['recall']=recall_score(y_corrtest,y_corrpred)\n",
    "print(rfcorr)  "
   ]
  },
  {
   "cell_type": "code",
   "execution_count": 17,
   "metadata": {},
   "outputs": [
    {
     "name": "stderr",
     "output_type": "stream",
     "text": [
      "D:\\anaconda\\envs\\tensorflow\\lib\\site-packages\\sklearn\\preprocessing\\data.py:334: DataConversionWarning: Data with input dtype int64 were all converted to float64 by MinMaxScaler.\n",
      "  return self.partial_fit(X, y)\n",
      "D:\\anaconda\\envs\\tensorflow\\lib\\site-packages\\sklearn\\preprocessing\\data.py:334: DataConversionWarning: Data with input dtype int64 were all converted to float64 by MinMaxScaler.\n",
      "  return self.partial_fit(X, y)\n"
     ]
    },
    {
     "name": "stdout",
     "output_type": "stream",
     "text": [
      "_________________________________________________________________\n",
      "Layer (type)                 Output Shape              Param #   \n",
      "=================================================================\n",
      "dense_15 (Dense)             (None, 128)               21376     \n",
      "_________________________________________________________________\n",
      "dense_16 (Dense)             (None, 64)                8256      \n",
      "_________________________________________________________________\n",
      "dropout_6 (Dropout)          (None, 64)                0         \n",
      "_________________________________________________________________\n",
      "dense_17 (Dense)             (None, 64)                4160      \n",
      "_________________________________________________________________\n",
      "dropout_7 (Dropout)          (None, 64)                0         \n",
      "_________________________________________________________________\n",
      "dense_18 (Dense)             (None, 64)                4160      \n",
      "_________________________________________________________________\n",
      "dense_19 (Dense)             (None, 1)                 65        \n",
      "=================================================================\n",
      "Total params: 38,017\n",
      "Trainable params: 38,017\n",
      "Non-trainable params: 0\n",
      "_________________________________________________________________\n",
      "Train on 5278 samples, validate on 1320 samples\n",
      "Epoch 1/100\n",
      "5278/5278 [==============================] - 1s 172us/sample - loss: 0.4383 - acc: 0.8429 - val_loss: 0.3790 - val_acc: 0.8485\n",
      "Epoch 2/100\n",
      "5278/5278 [==============================] - 0s 88us/sample - loss: 0.3842 - acc: 0.8452 - val_loss: 0.3459 - val_acc: 0.8485\n",
      "Epoch 3/100\n",
      "5278/5278 [==============================] - 1s 99us/sample - loss: 0.3461 - acc: 0.8452 - val_loss: 0.3097 - val_acc: 0.8485\n",
      "Epoch 4/100\n",
      "5278/5278 [==============================] - 1s 108us/sample - loss: 0.3073 - acc: 0.8534 - val_loss: 0.2679 - val_acc: 0.8932\n",
      "Epoch 5/100\n",
      "5278/5278 [==============================] - 0s 94us/sample - loss: 0.2697 - acc: 0.8924 - val_loss: 0.2315 - val_acc: 0.9189\n",
      "Epoch 6/100\n",
      "5278/5278 [==============================] - 0s 90us/sample - loss: 0.2418 - acc: 0.9164 - val_loss: 0.2030 - val_acc: 0.9242\n",
      "Epoch 7/100\n",
      "5278/5278 [==============================] - 0s 86us/sample - loss: 0.2168 - acc: 0.9227 - val_loss: 0.1968 - val_acc: 0.9235\n",
      "Epoch 8/100\n",
      "5278/5278 [==============================] - 1s 102us/sample - loss: 0.2069 - acc: 0.9259 - val_loss: 0.1749 - val_acc: 0.9356\n",
      "Epoch 9/100\n",
      "5278/5278 [==============================] - 1s 96us/sample - loss: 0.1905 - acc: 0.9314 - val_loss: 0.1663 - val_acc: 0.9394\n",
      "Epoch 10/100\n",
      "5278/5278 [==============================] - 0s 92us/sample - loss: 0.1802 - acc: 0.9344 - val_loss: 0.1577 - val_acc: 0.9333\n",
      "Epoch 11/100\n",
      "5278/5278 [==============================] - 0s 85us/sample - loss: 0.1723 - acc: 0.9405 - val_loss: 0.1588 - val_acc: 0.9341\n",
      "Epoch 12/100\n",
      "5278/5278 [==============================] - 0s 88us/sample - loss: 0.1663 - acc: 0.9394 - val_loss: 0.1504 - val_acc: 0.9356\n",
      "Epoch 13/100\n",
      "5278/5278 [==============================] - 0s 85us/sample - loss: 0.1591 - acc: 0.9407 - val_loss: 0.1459 - val_acc: 0.9424\n",
      "Epoch 14/100\n",
      "5278/5278 [==============================] - 0s 87us/sample - loss: 0.1534 - acc: 0.9449 - val_loss: 0.1389 - val_acc: 0.9424\n",
      "Epoch 15/100\n",
      "5278/5278 [==============================] - 0s 86us/sample - loss: 0.1484 - acc: 0.9458 - val_loss: 0.1356 - val_acc: 0.9455\n",
      "Epoch 16/100\n",
      "5278/5278 [==============================] - 0s 85us/sample - loss: 0.1418 - acc: 0.9496 - val_loss: 0.1517 - val_acc: 0.9402\n",
      "Epoch 17/100\n",
      "5278/5278 [==============================] - 0s 94us/sample - loss: 0.1377 - acc: 0.9509 - val_loss: 0.1302 - val_acc: 0.9523\n",
      "Epoch 18/100\n",
      "5278/5278 [==============================] - 1s 110us/sample - loss: 0.1366 - acc: 0.9553 - val_loss: 0.1268 - val_acc: 0.9477\n",
      "Epoch 19/100\n",
      "5278/5278 [==============================] - 0s 89us/sample - loss: 0.1309 - acc: 0.9540 - val_loss: 0.1240 - val_acc: 0.9538\n",
      "Epoch 20/100\n",
      "5278/5278 [==============================] - 0s 88us/sample - loss: 0.1272 - acc: 0.9543 - val_loss: 0.1221 - val_acc: 0.9553\n",
      "Epoch 21/100\n",
      "5278/5278 [==============================] - 0s 88us/sample - loss: 0.1228 - acc: 0.9555 - val_loss: 0.1164 - val_acc: 0.9553\n",
      "Epoch 22/100\n",
      "5278/5278 [==============================] - 0s 88us/sample - loss: 0.1186 - acc: 0.9602 - val_loss: 0.1162 - val_acc: 0.9553\n",
      "Epoch 23/100\n",
      "5278/5278 [==============================] - 0s 85us/sample - loss: 0.1138 - acc: 0.9613 - val_loss: 0.1104 - val_acc: 0.9583\n",
      "Epoch 24/100\n",
      "5278/5278 [==============================] - 0s 90us/sample - loss: 0.1102 - acc: 0.9617 - val_loss: 0.1177 - val_acc: 0.9561\n",
      "Epoch 25/100\n",
      "5278/5278 [==============================] - 1s 109us/sample - loss: 0.1045 - acc: 0.9636 - val_loss: 0.1063 - val_acc: 0.9621\n",
      "Epoch 26/100\n",
      "5278/5278 [==============================] - 1s 105us/sample - loss: 0.1027 - acc: 0.9617 - val_loss: 0.1047 - val_acc: 0.9636\n",
      "Epoch 27/100\n",
      "5278/5278 [==============================] - 1s 99us/sample - loss: 0.1018 - acc: 0.9646 - val_loss: 0.1035 - val_acc: 0.9636\n",
      "Epoch 28/100\n",
      "5278/5278 [==============================] - 1s 114us/sample - loss: 0.0969 - acc: 0.9653 - val_loss: 0.1006 - val_acc: 0.9636\n",
      "Epoch 29/100\n",
      "5278/5278 [==============================] - 1s 98us/sample - loss: 0.0963 - acc: 0.9685 - val_loss: 0.1037 - val_acc: 0.9629\n",
      "Epoch 30/100\n",
      "5278/5278 [==============================] - 0s 86us/sample - loss: 0.0947 - acc: 0.9687 - val_loss: 0.0971 - val_acc: 0.9614\n",
      "Epoch 31/100\n",
      "5278/5278 [==============================] - 0s 88us/sample - loss: 0.0855 - acc: 0.9699 - val_loss: 0.0968 - val_acc: 0.9667\n",
      "Epoch 32/100\n",
      "5278/5278 [==============================] - 0s 88us/sample - loss: 0.0890 - acc: 0.9704 - val_loss: 0.1200 - val_acc: 0.9561\n",
      "Epoch 33/100\n",
      "5278/5278 [==============================] - 0s 86us/sample - loss: 0.0843 - acc: 0.9701 - val_loss: 0.0922 - val_acc: 0.9674\n",
      "Epoch 34/100\n",
      "5278/5278 [==============================] - 0s 89us/sample - loss: 0.0811 - acc: 0.9706 - val_loss: 0.0938 - val_acc: 0.9652\n",
      "Epoch 35/100\n",
      "5278/5278 [==============================] - 0s 86us/sample - loss: 0.0810 - acc: 0.9716 - val_loss: 0.0858 - val_acc: 0.9697\n",
      "Epoch 36/100\n",
      "5278/5278 [==============================] - 0s 86us/sample - loss: 0.0771 - acc: 0.9718 - val_loss: 0.0844 - val_acc: 0.9712\n",
      "Epoch 37/100\n",
      "5278/5278 [==============================] - 0s 88us/sample - loss: 0.0742 - acc: 0.9733 - val_loss: 0.0876 - val_acc: 0.9659\n",
      "Epoch 38/100\n",
      "5278/5278 [==============================] - 1s 108us/sample - loss: 0.0749 - acc: 0.9703 - val_loss: 0.0809 - val_acc: 0.9689\n",
      "Epoch 39/100\n",
      "5278/5278 [==============================] - 1s 100us/sample - loss: 0.0687 - acc: 0.9756 - val_loss: 0.0878 - val_acc: 0.9689\n",
      "Epoch 40/100\n",
      "5278/5278 [==============================] - 0s 85us/sample - loss: 0.0704 - acc: 0.9746 - val_loss: 0.0790 - val_acc: 0.9697\n",
      "Epoch 41/100\n",
      "5278/5278 [==============================] - 1s 105us/sample - loss: 0.0672 - acc: 0.9765 - val_loss: 0.0793 - val_acc: 0.9682\n",
      "Epoch 42/100\n",
      "5278/5278 [==============================] - 1s 110us/sample - loss: 0.0651 - acc: 0.9771 - val_loss: 0.0741 - val_acc: 0.9735\n",
      "Epoch 43/100\n",
      "5278/5278 [==============================] - 1s 103us/sample - loss: 0.0644 - acc: 0.9759 - val_loss: 0.0754 - val_acc: 0.9697\n",
      "Epoch 44/100\n",
      "5278/5278 [==============================] - 0s 93us/sample - loss: 0.0606 - acc: 0.9780 - val_loss: 0.0735 - val_acc: 0.9720\n",
      "Epoch 45/100\n",
      "5278/5278 [==============================] - 0s 90us/sample - loss: 0.0555 - acc: 0.9795 - val_loss: 0.0718 - val_acc: 0.9705\n",
      "Epoch 46/100\n",
      "5278/5278 [==============================] - 0s 92us/sample - loss: 0.0557 - acc: 0.9788 - val_loss: 0.0698 - val_acc: 0.9727\n",
      "Epoch 47/100\n",
      "5278/5278 [==============================] - 0s 92us/sample - loss: 0.0540 - acc: 0.9801 - val_loss: 0.0681 - val_acc: 0.9727\n",
      "Epoch 48/100\n",
      "5278/5278 [==============================] - 0s 91us/sample - loss: 0.0515 - acc: 0.9792 - val_loss: 0.0683 - val_acc: 0.9705\n",
      "Epoch 49/100\n",
      "5278/5278 [==============================] - 0s 91us/sample - loss: 0.0479 - acc: 0.9814 - val_loss: 0.0715 - val_acc: 0.9765\n",
      "Epoch 50/100\n"
     ]
    },
    {
     "name": "stdout",
     "output_type": "stream",
     "text": [
      "5278/5278 [==============================] - 0s 87us/sample - loss: 0.0521 - acc: 0.9814 - val_loss: 0.0751 - val_acc: 0.9720\n",
      "Epoch 51/100\n",
      "5278/5278 [==============================] - 0s 90us/sample - loss: 0.0485 - acc: 0.9814 - val_loss: 0.0675 - val_acc: 0.9758\n",
      "Epoch 52/100\n",
      "5278/5278 [==============================] - 0s 90us/sample - loss: 0.0500 - acc: 0.9826 - val_loss: 0.0788 - val_acc: 0.9712\n",
      "Epoch 53/100\n",
      "5278/5278 [==============================] - 0s 90us/sample - loss: 0.0441 - acc: 0.9831 - val_loss: 0.0731 - val_acc: 0.9705\n",
      "Epoch 54/100\n",
      "5278/5278 [==============================] - 1s 104us/sample - loss: 0.0435 - acc: 0.9831 - val_loss: 0.0752 - val_acc: 0.9742\n",
      "Epoch 55/100\n",
      "5278/5278 [==============================] - 0s 86us/sample - loss: 0.0465 - acc: 0.9822 - val_loss: 0.0644 - val_acc: 0.9735\n",
      "Epoch 56/100\n",
      "5278/5278 [==============================] - 1s 107us/sample - loss: 0.0407 - acc: 0.9839 - val_loss: 0.0633 - val_acc: 0.9758\n",
      "Epoch 57/100\n",
      "5278/5278 [==============================] - 1s 109us/sample - loss: 0.0418 - acc: 0.9848 - val_loss: 0.0668 - val_acc: 0.9780\n",
      "Epoch 58/100\n",
      "5278/5278 [==============================] - 0s 90us/sample - loss: 0.0384 - acc: 0.9856 - val_loss: 0.0683 - val_acc: 0.9765\n",
      "Epoch 59/100\n",
      "5278/5278 [==============================] - 0s 87us/sample - loss: 0.0389 - acc: 0.9862 - val_loss: 0.0624 - val_acc: 0.9758\n",
      "Epoch 60/100\n",
      "5278/5278 [==============================] - 1s 106us/sample - loss: 0.0392 - acc: 0.9856 - val_loss: 0.0747 - val_acc: 0.9788\n",
      "Epoch 61/100\n",
      "5278/5278 [==============================] - 1s 107us/sample - loss: 0.0381 - acc: 0.9841 - val_loss: 0.0683 - val_acc: 0.9765\n",
      "Epoch 62/100\n",
      "5278/5278 [==============================] - 0s 85us/sample - loss: 0.0381 - acc: 0.9858 - val_loss: 0.0566 - val_acc: 0.9788\n",
      "Epoch 63/100\n",
      "5278/5278 [==============================] - 0s 84us/sample - loss: 0.0342 - acc: 0.9877 - val_loss: 0.0636 - val_acc: 0.9765\n",
      "Epoch 64/100\n",
      "5278/5278 [==============================] - 0s 89us/sample - loss: 0.0349 - acc: 0.9862 - val_loss: 0.0577 - val_acc: 0.9765\n",
      "Epoch 65/100\n",
      "5278/5278 [==============================] - 0s 87us/sample - loss: 0.0352 - acc: 0.9871 - val_loss: 0.0565 - val_acc: 0.9788\n",
      "Epoch 66/100\n",
      "5278/5278 [==============================] - 0s 84us/sample - loss: 0.0337 - acc: 0.9869 - val_loss: 0.0553 - val_acc: 0.9803\n",
      "Epoch 67/100\n",
      "5278/5278 [==============================] - 0s 84us/sample - loss: 0.0332 - acc: 0.9883 - val_loss: 0.0653 - val_acc: 0.9795\n",
      "Epoch 68/100\n",
      "5278/5278 [==============================] - 0s 89us/sample - loss: 0.0288 - acc: 0.9892 - val_loss: 0.0561 - val_acc: 0.9841\n",
      "Epoch 69/100\n",
      "5278/5278 [==============================] - 0s 84us/sample - loss: 0.0306 - acc: 0.9890 - val_loss: 0.0539 - val_acc: 0.9856\n",
      "Epoch 70/100\n",
      "5278/5278 [==============================] - 0s 86us/sample - loss: 0.0277 - acc: 0.9884 - val_loss: 0.0558 - val_acc: 0.9811\n",
      "Epoch 71/100\n",
      "5278/5278 [==============================] - 0s 84us/sample - loss: 0.0277 - acc: 0.9894 - val_loss: 0.0744 - val_acc: 0.9750\n",
      "Epoch 72/100\n",
      "5278/5278 [==============================] - 0s 84us/sample - loss: 0.0275 - acc: 0.9901 - val_loss: 0.0664 - val_acc: 0.9780\n",
      "Epoch 73/100\n",
      "5278/5278 [==============================] - 1s 98us/sample - loss: 0.0252 - acc: 0.9884 - val_loss: 0.0615 - val_acc: 0.9788\n",
      "Epoch 74/100\n",
      "5278/5278 [==============================] - 0s 93us/sample - loss: 0.0253 - acc: 0.9892 - val_loss: 0.0530 - val_acc: 0.9818\n",
      "Epoch 75/100\n",
      "5278/5278 [==============================] - 0s 88us/sample - loss: 0.0216 - acc: 0.9922 - val_loss: 0.0852 - val_acc: 0.9735\n",
      "Epoch 76/100\n",
      "5278/5278 [==============================] - 1s 112us/sample - loss: 0.0254 - acc: 0.9896 - val_loss: 0.0607 - val_acc: 0.9811\n",
      "Epoch 77/100\n",
      "5278/5278 [==============================] - ETA: 0s - loss: 0.0248 - acc: 0.990 - 1s 106us/sample - loss: 0.0243 - acc: 0.9907 - val_loss: 0.0559 - val_acc: 0.9841\n",
      "Epoch 78/100\n",
      "5278/5278 [==============================] - 1s 95us/sample - loss: 0.0276 - acc: 0.9894 - val_loss: 0.0466 - val_acc: 0.9811\n",
      "Epoch 79/100\n",
      "5278/5278 [==============================] - 0s 91us/sample - loss: 0.0180 - acc: 0.9926 - val_loss: 0.0640 - val_acc: 0.9833\n",
      "Epoch 80/100\n",
      "5278/5278 [==============================] - 0s 90us/sample - loss: 0.0212 - acc: 0.9915 - val_loss: 0.0510 - val_acc: 0.9826\n",
      "Epoch 81/100\n",
      "5278/5278 [==============================] - 0s 90us/sample - loss: 0.0205 - acc: 0.9922 - val_loss: 0.0568 - val_acc: 0.9826\n",
      "Epoch 82/100\n",
      "5278/5278 [==============================] - 0s 95us/sample - loss: 0.0223 - acc: 0.9907 - val_loss: 0.0596 - val_acc: 0.9848\n",
      "Epoch 83/100\n",
      "5278/5278 [==============================] - 0s 92us/sample - loss: 0.0165 - acc: 0.9936 - val_loss: 0.0780 - val_acc: 0.9795\n",
      "Epoch 84/100\n",
      "5278/5278 [==============================] - 0s 92us/sample - loss: 0.0200 - acc: 0.9932 - val_loss: 0.0702 - val_acc: 0.9795\n",
      "Epoch 85/100\n",
      "5278/5278 [==============================] - 1s 100us/sample - loss: 0.0192 - acc: 0.9924 - val_loss: 0.0566 - val_acc: 0.9871\n",
      "Epoch 86/100\n",
      "5278/5278 [==============================] - 1s 104us/sample - loss: 0.0173 - acc: 0.9930 - val_loss: 0.0796 - val_acc: 0.9803\n",
      "Epoch 87/100\n",
      "5278/5278 [==============================] - 1s 101us/sample - loss: 0.0189 - acc: 0.9924 - val_loss: 0.0709 - val_acc: 0.9788\n",
      "Epoch 88/100\n",
      "5278/5278 [==============================] - 1s 104us/sample - loss: 0.0156 - acc: 0.9947 - val_loss: 0.0877 - val_acc: 0.9803\n",
      "Epoch 89/100\n",
      "5278/5278 [==============================] - 0s 89us/sample - loss: 0.0139 - acc: 0.9937 - val_loss: 0.0565 - val_acc: 0.9833\n",
      "Epoch 90/100\n",
      "5278/5278 [==============================] - 0s 90us/sample - loss: 0.0160 - acc: 0.9943 - val_loss: 0.0575 - val_acc: 0.9826\n",
      "Epoch 91/100\n",
      "5278/5278 [==============================] - 0s 91us/sample - loss: 0.0181 - acc: 0.9928 - val_loss: 0.0414 - val_acc: 0.9894\n",
      "Epoch 92/100\n",
      "5278/5278 [==============================] - 0s 86us/sample - loss: 0.0129 - acc: 0.9951 - val_loss: 0.0596 - val_acc: 0.9856\n",
      "Epoch 93/100\n",
      "5278/5278 [==============================] - 0s 89us/sample - loss: 0.0122 - acc: 0.9955 - val_loss: 0.0620 - val_acc: 0.9871\n",
      "Epoch 94/100\n",
      "5278/5278 [==============================] - 0s 89us/sample - loss: 0.0137 - acc: 0.9947 - val_loss: 0.0504 - val_acc: 0.9871\n",
      "Epoch 95/100\n",
      "5278/5278 [==============================] - 0s 87us/sample - loss: 0.0134 - acc: 0.9953 - val_loss: 0.0955 - val_acc: 0.9758\n",
      "Epoch 96/100\n",
      "5278/5278 [==============================] - 0s 92us/sample - loss: 0.0154 - acc: 0.9937 - val_loss: 0.0582 - val_acc: 0.9848\n",
      "Epoch 97/100\n",
      "5278/5278 [==============================] - 0s 93us/sample - loss: 0.0145 - acc: 0.9937 - val_loss: 0.0522 - val_acc: 0.9818\n",
      "Epoch 98/100\n",
      "5278/5278 [==============================] - 0s 87us/sample - loss: 0.0147 - acc: 0.9939 - val_loss: 0.0463 - val_acc: 0.9894\n",
      "Epoch 99/100\n",
      "5278/5278 [==============================] - 1s 101us/sample - loss: 0.0129 - acc: 0.9949 - val_loss: 0.0577 - val_acc: 0.9826\n",
      "Epoch 100/100\n",
      "5278/5278 [==============================] - 1s 106us/sample - loss: 0.0126 - acc: 0.9949 - val_loss: 0.0628 - val_acc: 0.9833\n",
      "1320/1320 [==============================] - 0s 32us/sample - loss: 0.0628 - acc: 0.9833\n",
      "[0.06280603896159323, 0.98333335]\n"
     ]
    }
   ],
   "source": [
    "#multilayer perceptron MLP based approach\n",
    "nmodel = Sequential()\n",
    "nmodel.add(Dense(128, input_shape=(166,), activation='relu'))\n",
    "nmodel.add(Dense(64, activation='relu'))\n",
    "nmodel.add(Dropout(0.2))\n",
    "nmodel.add(Dense(64, activation='relu'))\n",
    "nmodel.add(Dropout(0.2))\n",
    "nmodel.add(Dense(64, activation='relu'))\n",
    "nmodel.add(Dense(1, activation='sigmoid'))\n",
    "from tensorflow.keras.optimizers import RMSprop\n",
    "X_sc=mmscaler.fit_transform(x_train)\n",
    "X_sctest=mmscaler.fit_transform(x_test)\n",
    "nmodel.compile(loss='binary_crossentropy',\n",
    "              optimizer=RMSprop(lr=0.0001),\n",
    "              metrics=['accuracy'])\n",
    "nmodel.summary()\n",
    "\n",
    "history=nmodel.fit(X_sc,y_train,validation_data=(X_sctest,y_test),epochs=100)\n",
    "score = nmodel.evaluate(X_testscaled,y_test)\n",
    "print(score)"
   ]
  },
  {
   "cell_type": "code",
   "execution_count": 18,
   "metadata": {},
   "outputs": [
    {
     "data": {
      "image/png": "[encoded data removed]",
      "text/plain": [
       "<Figure size 432x288 with 1 Axes>"
      ]
     },
     "metadata": {
      "needs_background": "light"
     },
     "output_type": "display_data"
    },
    {
     "data": {
      "image/png": "[encoded data removed]",
      "text/plain": [
       "<Figure size 432x288 with 1 Axes>"
      ]
     },
     "metadata": {
      "needs_background": "light"
     },
     "output_type": "display_data"
    }
   ],
   "source": [
    "import matplotlib.pyplot as plt\n",
    "nn={}\n",
    "ac = history.history['acc']\n",
    "vac=history.history['val_acc']\n",
    "loss = history.history['loss']\n",
    "vloss=history.history['val_loss']\n",
    "epochs = range(len(ac))\n",
    "plt.plot(epochs, ac, 'r', label='Training accuracy')\n",
    "plt.plot(epochs, vac, 'b', label='Validation accuracy')\n",
    "plt.title('Training accuracy')\n",
    "plt.legend()\n",
    "plt.show()\n",
    "plt.plot(epochs, loss, 'r', label='Training Loss')\n",
    "plt.plot(epochs, vloss, 'b', label='Training Loss')\n",
    "plt.title('Training  loss')\n",
    "plt.legend()\n",
    "plt.show()"
   ]
  },
  {
   "cell_type": "markdown",
   "metadata": {},
   "source": [
    " MLP and Random Forest based approach performs really well on training and test/validation sets after tuning of hyperparams and dropping high correlation features. \n",
    " Training CNNs is more costly in reference to computational costs."
   ]
  },
  {
   "cell_type": "code",
   "execution_count": null,
   "metadata": {},
   "outputs": [],
   "source": []
  }
 ],
 "metadata": {
  "kernelspec": {
   "display_name": "Python 3",
   "language": "python",
   "name": "python3"
  },
  "language_info": {
   "codemirror_mode": {
    "name": "ipython",
    "version": 3
   },
   "file_extension": ".py",
   "mimetype": "text/x-python",
   "name": "python",
   "nbconvert_exporter": "python",
   "pygments_lexer": "ipython3",
   "version": "3.6.8"
  }
 },
 "nbformat": 4,
 "nbformat_minor": 2
}
